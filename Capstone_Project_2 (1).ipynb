{
  "nbformat": 4,
  "nbformat_minor": 0,
  "metadata": {
    "colab": {
      "private_outputs": true,
      "provenance": []
    },
    "kernelspec": {
      "name": "python3",
      "display_name": "Python 3"
    },
    "language_info": {
      "name": "python"
    }
  },
  "cells": [
    {
      "cell_type": "markdown",
      "source": [
        "# **Project Name**    - Global Terrrorism Data Set  \n",
        "\n"
      ],
      "metadata": {
        "id": "vncDsAP0Gaoa"
      }
    },
    {
      "cell_type": "markdown",
      "source": [
        "##### **Project Type**    - Global Terrorism Dataset\n",
        "##### **Contribution**    - Siddh Bhatt\n"
      ],
      "metadata": {
        "id": "beRrZCGUAJYm"
      }
    },
    {
      "cell_type": "markdown",
      "source": [
        "# **Project Summary -**"
      ],
      "metadata": {
        "id": "FJNUwmbgGyua"
      }
    },
    {
      "cell_type": "markdown",
      "source": [
        "Statistics on terrorist acts that have happened globally between 1970 and 2017 are available in the Global Terrorism Database (GTD), an open-source database. The GTD offers comprehensive data on terrorist occurrences that have occurred over this time, both domestically and abroad. As of right now, it covers approximately 180,000 attacks. The National Consortium for the Study of Terrorism and Responses to Terrorism (START), situated at the University of Maryland, employs researchers who are in charge of keeping the database updated.\n",
        "The project concentrated on conducting basic research on a range of subjects, such as locating terrorist hotspots, analysing attack and victim types, identifying notable offenders, and the total amount of damage caused by terrorist activity."
      ],
      "metadata": {
        "id": "F6v_1wHtG2nS"
      }
    },
    {
      "cell_type": "markdown",
      "source": [
        "# **Objective -**\n",
        "\n"
      ],
      "metadata": {
        "id": "w6K7xa23Elo4"
      }
    },
    {
      "cell_type": "markdown",
      "source": [
        "The objective of this report is to conduct a comprehensive analysis of the Global Terrorism Database (GTD) to identify trends and patterns in global terrorist activities. Specifically, the report aims to:\n",
        "\n",
        "1.Analyze the frequency and geographical distribution of terrorist attacks across various regions and countries.\n",
        "\n",
        "\n",
        "2.Identify the most active terrorist groups and the types of targets they commonly attack.\n",
        "\n",
        "\n",
        "\n",
        "3.Explore the weapon types used in terrorist incidents and their impact on casualties.\n",
        "\n",
        "\n",
        "\n",
        "4.Total destruction cost caused due to terrorist activities."
      ],
      "metadata": {
        "id": "h1o69JH3Eqqn"
      }
    },
    {
      "cell_type": "markdown",
      "source": [
        "# **General Guidelines** : -  "
      ],
      "metadata": {
        "id": "mDgbUHAGgjLW"
      }
    },
    {
      "cell_type": "markdown",
      "source": [
        "1.   Well-structured, formatted, and commented code is required.\n",
        "2.   Exception Handling, Production Grade Code & Deployment Ready Code will be a plus. Those students will be awarded some additional credits.\n",
        "     \n",
        "     The additional credits will have advantages over other students during Star Student selection.\n",
        "       \n",
        "             [ Note: - Deployment Ready Code is defined as, the whole .ipynb notebook should be executable in one go\n",
        "                       without a single error logged. ]\n",
        "\n",
        "3.   Each and every logic should have proper comments.\n",
        "4. You may add as many number of charts you want. Make Sure for each and every chart the following format should be answered.\n",
        "        \n",
        "\n",
        "```\n",
        "# Chart visualization code\n",
        "```\n",
        "            \n",
        "\n",
        "*   Why did you pick the specific chart?\n",
        "*   What is/are the insight(s) found from the chart?\n",
        "* Will the gained insights help creating a positive business impact?\n",
        "Are there any insights that lead to negative growth? Justify with specific reason.\n",
        "\n",
        "5. You have to create at least 20 logical & meaningful charts having important insights.\n",
        "\n",
        "\n",
        "[ Hints : - Do the Vizualization in  a structured way while following \"UBM\" Rule.\n",
        "\n",
        "U - Univariate Analysis,\n",
        "\n",
        "B - Bivariate Analysis (Numerical - Categorical, Numerical - Numerical, Categorical - Categorical)\n",
        "\n",
        "M - Multivariate Analysis\n",
        " ]\n",
        "\n",
        "\n",
        "\n"
      ],
      "metadata": {
        "id": "ZrxVaUj-hHfC"
      }
    },
    {
      "cell_type": "markdown",
      "source": [
        "# ***Let's Begin !***"
      ],
      "metadata": {
        "id": "O_i_v8NEhb9l"
      }
    },
    {
      "cell_type": "code",
      "source": [
        "#Analysing the data for regions of terrorism\n",
        "import pandas as pd\n",
        "\n",
        "from google.colab import drive\n",
        "drive.mount('/content/drive')\n",
        "\n",
        "gtd = pd.read_csv('/content/drive/My Drive/GTD.csv', encoding='latin-1',low_memory = False)\n",
        "\n",
        "\n",
        "gtd[['country_txt','country','region']]\n",
        "\n",
        "\n",
        "max_region = gtd['region'].value_counts()\n",
        "print(max_region)\n",
        "print(f'{max_region.max()}',{max_region.idxmax()} )"
      ],
      "metadata": {
        "id": "RC79fTd-eoCv"
      },
      "execution_count": null,
      "outputs": []
    },
    {
      "cell_type": "code",
      "source": [
        "#country wise analysis of the GTD\n",
        "\n",
        "\n",
        "import pandas as pd\n",
        "\n",
        "from google.colab import drive\n",
        "drive.mount('/content/drive')\n",
        "\n",
        "# Try reading the file with 'latin-1' encoding\n",
        "gtd = pd.read_csv('/content/drive/My Drive/GTD.csv', encoding='latin-1',low_memory = False)\n",
        "\n",
        "# Display the first few rows to ensure it's loaded correctly\n",
        "gtd[['country_txt','country','region']]\n",
        "max_region = gtd['country_txt'].value_counts()\n",
        "print(max_region)\n",
        "print(f'{max_region.max()}',{max_region.idxmax()})"
      ],
      "metadata": {
        "id": "CIZ_C-0ZfefC"
      },
      "execution_count": null,
      "outputs": []
    },
    {
      "cell_type": "code",
      "source": [
        "\n",
        "#attack type of the terrorist attacks\n",
        "import pandas as pd\n",
        "\n",
        "from google.colab import drive\n",
        "drive.mount('/content/drive')\n",
        "\n",
        "gtd = pd.read_csv('/content/drive/My Drive/GTD.csv', encoding='latin-1',low_memory = False)\n",
        "\n",
        "\n",
        "\n",
        "\n",
        "\n",
        "max_attacktype = gtd['attacktype1'].value_counts()\n",
        "print(max_attacktype)\n",
        "print(f'{max_attacktype.max()}',{max_attacktype.idxmax()} )"
      ],
      "metadata": {
        "id": "N9yjHw8gjW_b"
      },
      "execution_count": null,
      "outputs": []
    },
    {
      "cell_type": "code",
      "source": [
        "import pandas as pd\n",
        "\n",
        "from google.colab import drive\n",
        "drive.mount('/content/drive')\n",
        "\n",
        "\n",
        "gtd = pd.read_csv('/content/drive/My Drive/GTD.csv', encoding='latin-1',low_memory = False)\n",
        "\n",
        "\n",
        "max_region = gtd['attacktype1_txt'].value_counts()\n",
        "print(max_region)\n",
        "print(f'{max_region.max()}',{max_region.idxmax()})"
      ],
      "metadata": {
        "id": "1BsVbtw_jxfU"
      },
      "execution_count": null,
      "outputs": []
    },
    {
      "cell_type": "code",
      "source": [
        "import pandas as pd\n",
        "import matplotlib.pyplot as plt\n",
        "\n",
        "# Mount your drive and load the dataset\n",
        "from google.colab import drive\n",
        "drive.mount('/content/drive')\n",
        "\n",
        "# Read the file with 'latin-1' encoding\n",
        "gtd = pd.read_csv('/content/drive/My Drive/GTD.csv', encoding='latin-1', low_memory=False)\n",
        "\n",
        "# Get the value counts for target types\n",
        "targettype1_txt = gtd['targtype1_txt'].value_counts()\n",
        "print(targettype1_txt)\n",
        "print(f'{targettype1_txt.max()}',{targettype1_txt.idxmax()})"
      ],
      "metadata": {
        "id": "B1eTaSd5kCTd"
      },
      "execution_count": null,
      "outputs": []
    },
    {
      "cell_type": "code",
      "source": [
        "import pandas as pd\n",
        "import matplotlib.pyplot as plt\n",
        "\n",
        "# Mount your drive and load the dataset\n",
        "from google.colab import drive\n",
        "drive.mount('/content/drive')\n",
        "\n",
        "# Read the file with 'latin-1' encoding\n",
        "gtd = pd.read_csv('/content/drive/My Drive/GTD.csv', encoding='latin-1', low_memory=False)\n",
        "\n",
        "# Get the value counts for target types\n",
        "weap_type1 = gtd['weaptype1'].value_counts()\n",
        "print(weap_type1)\n",
        "print(f'{weap_type1.max()}',{weap_type1.idxmax()})"
      ],
      "metadata": {
        "id": "xgd0OXXlk3mj"
      },
      "execution_count": null,
      "outputs": []
    },
    {
      "cell_type": "code",
      "source": [
        "import pandas as pd\n",
        "import matplotlib.pyplot as plt\n",
        "\n",
        "# Mount your drive and load the dataset\n",
        "from google.colab import drive\n",
        "drive.mount('/content/drive')\n",
        "\n",
        "# Read the file with 'latin-1' encoding\n",
        "gtd = pd.read_csv('/content/drive/My Drive/GTD.csv', encoding='latin-1', low_memory=False)\n",
        "\n",
        "# Get the value counts for target types\n",
        "weap_type1_txt = gtd['weaptype1_txt'].value_counts()\n",
        "print(weap_type1_txt)\n",
        "print(f'{weap_type1_txt.max()}',{weap_type1_txt.idxmax()})"
      ],
      "metadata": {
        "id": "7--f8UfylXMj"
      },
      "execution_count": null,
      "outputs": []
    },
    {
      "cell_type": "code",
      "source": [
        "import pandas as pd\n",
        "import matplotlib.pyplot as plt\n",
        "\n",
        "# Mount your drive and load the dataset\n",
        "from google.colab import drive\n",
        "drive.mount('/content/drive')\n",
        "\n",
        "# Read the file with 'latin-1' encoding\n",
        "gtd = pd.read_csv('/content/drive/My Drive/GTD.csv', encoding='latin-1', low_memory=False)\n",
        "\n",
        "# Get the value counts for target types\n",
        "propvalue = gtd['propvalue']\n",
        "total_value = propvalue.sum()\n",
        "total_value_in_billions = total_value / 1e9\n",
        "\n",
        "# Print the total value in billions\n",
        "print(f'Total value of destruction is {total_value_in_billions:.2f} billion USD')"
      ],
      "metadata": {
        "id": "U-UeuibPljQB"
      },
      "execution_count": null,
      "outputs": []
    },
    {
      "cell_type": "code",
      "source": [
        "import pandas as pd\n",
        "import matplotlib.pyplot as plt\n",
        "\n",
        "# Mount your drive and load the dataset\n",
        "from google.colab import drive\n",
        "drive.mount('/content/drive')\n",
        "\n",
        "# Read the file with 'latin-1' encoding\n",
        "gtd = pd.read_csv('/content/drive/My Drive/GTD.csv', encoding='latin-1', low_memory=False)\n",
        "\n",
        "# Get the value counts for terrorist groups\n",
        "gname__ = gtd['gname'].value_counts()\n",
        "\n",
        "# Display the top 10 terrorist groups\n",
        "top_10_groups = gname__.head(10)\n",
        "print(top_10_groups)"
      ],
      "metadata": {
        "id": "PrdPSgdFoMkA"
      },
      "execution_count": null,
      "outputs": []
    },
    {
      "cell_type": "markdown",
      "source": [
        "# **Visualisations**"
      ],
      "metadata": {
        "id": "SfEnKLv8mRvS"
      }
    },
    {
      "cell_type": "code",
      "source": [
        "import pandas as pd\n",
        "import matplotlib.pyplot as plt\n",
        "from google.colab import drive\n",
        "drive.mount('/content/drive')\n",
        "\n",
        "gtd = pd.read_csv('/content/drive/My Drive/GTD.csv', encoding='latin-1',low_memory = False)\n",
        "\n",
        "max_region = gtd['region'].value_counts()\n",
        "\n",
        "plt.bar(max_region.index , max_region.values)\n",
        "plt.xlabel(\"region\")\n",
        "plt.ylabel(\"Number of terrorist attacks\")\n",
        "\n",
        "\n",
        "plt.show()"
      ],
      "metadata": {
        "id": "OlCFFm3nmfOX"
      },
      "execution_count": null,
      "outputs": []
    },
    {
      "cell_type": "code",
      "source": [
        "import pandas as pd\n",
        "import matplotlib.pyplot as plt\n",
        "\n",
        "attacktype1_txt = gtd['attacktype1_txt'].value_counts()\n",
        "\n",
        "# Separate the first six categories\n",
        "top_six = attacktype1_txt[:6]\n",
        "\n",
        "# Calculate the remaining categories and group them as \"Other\"\n",
        "other = attacktype1_txt[6:].sum()\n",
        "\n",
        "# Append the \"Other\" category to the top six\n",
        "top_six['Other'] = other\n",
        "\n",
        "# Define vibrant custom colors and add transparency for a gradient effect\n",
        "colors = ['#ff6f61', '#6b5b95', '#88b04b', '#f7cac9', '#92a8d1', '#ffcc5c', '#a5d6a7']\n",
        "\n",
        "# Create the pie chart with additional advanced graphics\n",
        "plt.figure(figsize=(12, 12))  # Set figure size\n",
        "\n",
        "\n",
        "explode = (0.1, 0, 0, 0, 0, 0.05, 0.2)  # Explode the first and last slices\n",
        "\n",
        "wedges, texts, autotexts = plt.pie(\n",
        "    top_six,\n",
        "    labels=top_six.index,\n",
        "    autopct='%1.1f%%',\n",
        "    startangle=150,         # Rotate for better distribution\n",
        "    colors=colors,          # Custom vibrant colors\n",
        "    explode=explode,        # Explode important slices\n",
        "    shadow=True,            # Add shadow for depth\n",
        "    labeldistance=1.15,     # Increase distance of labels\n",
        "    pctdistance=0.85,       # Adjust the percentage label distance\n",
        "    wedgeprops={'edgecolor': 'white', 'linewidth': 2, 'antialiased': True}  # Add border and smoothing\n",
        ")\n",
        "\n",
        "# Add custom styling for text and percentage labels\n",
        "for text in texts:\n",
        "    text.set_fontsize(14)\n",
        "    text.set_color('white')  # Set label color\n",
        "\n",
        "for autotext in autotexts:\n",
        "    autotext.set_fontsize(12)\n",
        "    autotext.set_color('white')  # Set percentage text color\n",
        "    autotext.set_weight('bold')  # Make percentages bold\n",
        "\n",
        "# Add a circular legend shifted to the bottom right corner\n",
        "plt.legend(\n",
        "    wedges, top_six.index, title=\"Attack Types\", loc=\"lower right\", bbox_to_anchor=(1, 0.05),\n",
        "    fontsize=12, title_fontsize=14, shadow=True\n",
        ")\n",
        "\n",
        "# Add a stunning title\n",
        "plt.title('Distribution of Attack Types (Top 6 + Other)', fontsize=18, color='white', weight='bold')\n",
        "\n",
        "# Display the pie chart\n",
        "plt.show()"
      ],
      "metadata": {
        "id": "p4mkTx0BnAFS"
      },
      "execution_count": null,
      "outputs": []
    },
    {
      "cell_type": "code",
      "source": [
        "import pandas as pd\n",
        "import matplotlib.pyplot as plt\n",
        "from google.colab import drive\n",
        "drive.mount('/content/drive')\n",
        "\n",
        "# Try reading the file with 'latin-1' encoding\n",
        "gtd = pd.read_csv('/content/drive/My Drive/GTD.csv', encoding='latin-1',low_memory = False)\n",
        "gtd = pd.read_csv('/content/drive/My Drive/GTD.csv', encoding='latin-1',low_memory = False)\n",
        "\n",
        "targettype1_txt = gtd['targtype1_txt'].value_counts()\n",
        "\n",
        "top_six = targettype1_txt[:6]\n",
        "\n",
        "# Calculate the remaining categories and group them as \"Other\"\n",
        "other = targettype1_txt[6:].sum()\n",
        "\n",
        "# Append the \"Other\" category to the top six\n",
        "top_six['Other'] = other\n",
        "\n",
        "# Define vibrant custom colors and add transparency for a gradient effect\n",
        "colors = ['#ff6f61', '#6b5b95', '#88b04b', '#f7cac9', '#92a8d1', '#ffcc5c', '#a5d6a7']\n",
        "\n",
        "# Create the pie chart with additional advanced graphics\n",
        "plt.figure(figsize=(12, 12))  # Set figure size\n",
        "\n",
        "\n",
        "explode = (0.1, 0, 0, 0, 0, 0.05, 0.2)  # Explode the first and last slices\n",
        "\n",
        "wedges, texts, autotexts = plt.pie(\n",
        "    top_six,\n",
        "    labels=top_six.index,\n",
        "    autopct='%1.1f%%',\n",
        "    startangle=150,         # Rotate for better distribution\n",
        "    colors=colors,          # Custom vibrant colors\n",
        "    explode=explode,        # Explode important slices\n",
        "    shadow=True,            # Add shadow for depth\n",
        "    labeldistance=1.15,     # Increase distance of labels\n",
        "    pctdistance=0.85,       # Adjust the percentage label distance\n",
        "    wedgeprops={'edgecolor': 'white', 'linewidth': 2, 'antialiased': True}  # Add border and smoothing\n",
        ")\n",
        "\n",
        "# Add custom styling for text and percentage labels\n",
        "for text in texts:\n",
        "    text.set_fontsize(14)\n",
        "    text.set_color('white')  # Set label color\n",
        "\n",
        "for autotext in autotexts:\n",
        "    autotext.set_fontsize(12)\n",
        "    autotext.set_color('white')  # Set percentage text color\n",
        "    autotext.set_weight('bold')  # Make percentages bold\n",
        "\n",
        "# Add a circular legend shifted to the bottom right corner\n",
        "plt.legend(\n",
        "    wedges, top_six.index, title=\"Target Types\", loc=\"lower left\", bbox_to_anchor=(1, 0.05),\n",
        "    fontsize=12, title_fontsize=14, shadow=True\n",
        ")\n",
        "\n",
        "# Add a stunning title\n",
        "plt.title('Distribution of Target types (Top 6 + Other)', fontsize=18, color='white', weight='bold')\n",
        "\n",
        "# Display the pie chart\n",
        "plt.show()"
      ],
      "metadata": {
        "id": "Z9ssmS4AnVQW"
      },
      "execution_count": null,
      "outputs": []
    },
    {
      "cell_type": "code",
      "source": [
        "import pandas as pd\n",
        "import matplotlib.pyplot as plt\n",
        "import seaborn as sns\n",
        "\n",
        "# Mount your drive and load the dataset\n",
        "from google.colab import drive\n",
        "drive.mount('/content/drive')\n",
        "\n",
        "# Read the file with 'latin-1' encoding\n",
        "gtd = pd.read_csv('/content/drive/My Drive/GTD.csv', encoding='latin-1', low_memory=False)\n",
        "\n",
        "# Get the value counts for weapon types\n",
        "weap_type1_txt = gtd['weaptype1_txt'].value_counts()\n",
        "\n",
        "# Prepare data for the bar chart\n",
        "labels = weap_type1_txt.index.tolist()\n",
        "sizes = weap_type1_txt.values.tolist()\n",
        "\n",
        "# Set the figure size for the bar chart\n",
        "plt.figure(figsize=(12, 8))\n",
        "\n",
        "# Use a custom color palette from Seaborn\n",
        "colors = sns.color_palette('viridis', len(labels))\n",
        "\n",
        "# Create the bar chart with enhanced graphics\n",
        "bars = plt.bar(labels, sizes, color=colors, edgecolor='black', linewidth=1.2)\n",
        "\n",
        "# Add a title and labels\n",
        "plt.title('Distribution of Weapon Types Used in Terrorist Attacks', fontsize=18, weight='bold', pad=20)\n",
        "plt.xlabel('Weapon Type', fontsize=14, weight='bold')\n",
        "plt.ylabel('Number of Attacks', fontsize=14, weight='bold')\n",
        "\n",
        "# Add a grid for better readability\n",
        "plt.grid(axis='y', linestyle='--', alpha=0.7)\n",
        "\n",
        "# Rotate x-axis labels for better visibility\n",
        "plt.xticks(rotation=45, ha='right', fontsize=12)\n",
        "\n",
        "# Add values on top of each bar\n",
        "for bar in bars:\n",
        "    yval = bar.get_height()\n",
        "    plt.text(bar.get_x() + bar.get_width() / 2, yval, int(yval), va='bottom', ha='center', fontsize=12, weight='bold')\n",
        "\n",
        "# Display the bar chart\n",
        "plt.tight_layout()\n",
        "plt.show()"
      ],
      "metadata": {
        "id": "Fj9JfhT2m1Xf"
      },
      "execution_count": null,
      "outputs": []
    },
    {
      "cell_type": "code",
      "source": [
        "import pandas as pd\n",
        "import geopandas as gpd\n",
        "import matplotlib.pyplot as plt\n",
        "from google.colab import drive\n",
        "\n",
        "# Mount your drive and load the dataset\n",
        "drive.mount('/content/drive')\n",
        "\n",
        "# Read the Global Terrorism Database CSV\n",
        "gtd = pd.read_csv('/content/drive/My Drive/GTD.csv', encoding='latin-1', low_memory=False)\n",
        "\n",
        "# Load a world map using Geopandas\n",
        "world = gpd.read_file(gpd.datasets.get_path('naturalearth_lowres'))\n",
        "\n",
        "# Group by country and get the number of terrorist attacks per country (or region if you have)\n",
        "attacks_by_country = gtd['country_txt'].value_counts().reset_index()\n",
        "attacks_by_country.columns = ['country', 'num_attacks']\n",
        "\n",
        "# Merge the attack data with the world map data\n",
        "world_attacks = world.merge(attacks_by_country, how='left', left_on='name', right_on='country')\n",
        "\n",
        "# Fill NaN values (countries with no data) with zero\n",
        "world_attacks['num_attacks'] = world_attacks['num_attacks'].fillna(0)\n",
        "\n",
        "# Plotting the world map with a heatmap of terrorist attacks\n",
        "plt.figure(figsize=(15, 10))\n",
        "world_attacks.boundary.plot(ax=plt.gca(), linewidth=1)\n",
        "world_attacks.plot(column='num_attacks', cmap='Reds', legend=True, ax=plt.gca(),\n",
        "                   legend_kwds={'label': \"Number of Terrorist Attacks\",\n",
        "                                'orientation': \"horizontal\"})\n",
        "\n",
        "# Add title and labels\n",
        "plt.title('Global Terrorist Attacks by Country', fontsize=18)\n",
        "plt.xlabel('Longitude', fontsize=12)\n",
        "plt.ylabel('Latitude', fontsize=12)\n",
        "\n",
        "# Show the plot\n",
        "plt.tight_layout()\n",
        "plt.show()\n"
      ],
      "metadata": {
        "id": "F1o7f6V4nvPj"
      },
      "execution_count": null,
      "outputs": []
    },
    {
      "cell_type": "code",
      "source": [
        "import pandas as pd\n",
        "import matplotlib.pyplot as plt\n",
        "import seaborn as sns\n",
        "\n",
        "# Mount your drive and load the dataset\n",
        "from google.colab import drive\n",
        "drive.mount('/content/drive')\n",
        "\n",
        "# Read the file with 'latin-1' encoding\n",
        "gtd = pd.read_csv('/content/drive/My Drive/GTD.csv', encoding='latin-1', low_memory=False)\n",
        "\n",
        "# Get the value counts for terrorist groups\n",
        "gname__ = gtd['gname'].value_counts()\n",
        "\n",
        "# Select the top 10 terrorist groups\n",
        "top_10_groups = gname__.head(10)\n",
        "\n",
        "# Set up the plot\n",
        "plt.figure(figsize=(12, 8))\n",
        "sns.set(style=\"whitegrid\")\n",
        "\n",
        "# Create the barplot using seaborn\n",
        "bar_plot = sns.barplot(x=top_10_groups.values, y=top_10_groups.index, palette=\"coolwarm\", orient='h')\n",
        "\n",
        "# Add titles and labels\n",
        "plt.title('Top 10 Most Active Terrorist Groups by Number of Attacks', fontsize=18, pad=20)\n",
        "plt.xlabel('Number of Attacks', fontsize=14)\n",
        "plt.ylabel('Terrorist Group', fontsize=14)\n",
        "\n",
        "# Annotate bars with the values\n",
        "for index, value in enumerate(top_10_groups.values):\n",
        "    plt.text(value, index, f'{value}', va='center', ha='left', fontsize=12, color='white')\n",
        "\n",
        "# Show the plot\n",
        "plt.tight_layout()\n",
        "plt.show()\n"
      ],
      "metadata": {
        "id": "EpZJ5kRloGpB"
      },
      "execution_count": null,
      "outputs": []
    },
    {
      "cell_type": "markdown",
      "source": [
        "# **Analysis and Critical Thinking**"
      ],
      "metadata": {
        "id": "gCX9965dhzqZ"
      }
    },
    {
      "cell_type": "markdown",
      "source": [
        "From the given data, it is evident that certain regions experience significantly higher numbers of terrorist attacks compared to others. Region 10, with 50,474 attacks, stands out as the most affected, followed by regions 6 (44,974) and 3 (18,978). In contrast, regions such as 12, 7, and 4 report relatively fewer attacks, with only 282, 563, and 802 incidents, respectively. This disparity highlights that terrorism is highly concentrated in specific regions, necessitating a focused approach in addressing and mitigating threats in the most affected areas.\n",
        "\n",
        "Hence middle east region is more prone to terrorist attacks.\n",
        "\n",
        "The information shows that there is a significant geographic concentration of terrorism, with the biggest number of attacks occurring in Afghanistan (12,731), Pakistan (14,368), India (11,960), and Iraq (24,636). Colombia has 8,306 occurrences after that.                                                        \n",
        "On the other hand, a few nations only report one attack, including Wallis and Futuna, Andorra, South Vietnam, and Antigua and Barbuda. This striking disparity implies that although terrorism affects the entire world, some nations are disproportionately affected, necessitating focused counterterrorism initiatives in those regions.\n",
        "\n",
        "The country with highest number of terror attacks is Iraq, followed by Indian sub continent.\n",
        "\n",
        "\n",
        "\n",
        "The data demonstrate that terrorists prefer large-scale, destructive operations, as evidenced by the 88,255 bombings and explosions. This shows a plot to cause the most amount of hurt, panic, and casualties possible. Armed attacks (42,669) and assassinations (19,312), which most usually target law enforcement agents, public officials, or citizens, highlight the prevalence of direct violence against persons or groups.\n",
        "\n",
        "Whether through kidnapping (11,158) or barricade situations (991), the act of taking hostages implies a desire for long-term standoffs or ransom, albeit the latter is much less common. As illustrated by infrastructure attacks (10,356), terrorists also strive to undermine public trust in government authority by interfering with key services. The relatively low figures for unarmed assault (1,015)and hijacking (659) reflect a preference for more aggressive and effective tactics.\n",
        "\n",
        "\n",
        "\n",
        "The data show that terrorist attacks mostly target private persons and property, with 43,511 instances, indicating a purpose to engender widespread fear and cause severe harm to daily life. Military (27,984) and police (24,506) are also common targets, implying an attempt to destabilise state security agencies and undermine government authority. Attacks on government facilities (21,283) and enterprises (20,669) underscore the goal of destabilising the economy and governance.\n",
        "\n",
        "Transportation (6,799) and utilities (6,023) are other important targets, most likely because to their widespread impact on public services and infrastructure. Attacks against softer targets, such as religious people and organisations (4,440), educational institutions (4,322), and journalists (2,948), indicate attempts to undermine icons of culture, education, and free expression.\n",
        "\n",
        "The relatively low number of attacks on non-governmental organisations (970), tourists (440), and food/water supplies (317) indicates that, while these targets are susceptible, they are attacked less frequently than government and military troops. Overall, the findings show that terrorists use a multidimensional strategy, focussing on both symbolic targets and key infrastructure to cause disruption and panic across different sectors of society.\n",
        "The data demonstrate that explosives (92,426 events) and firearms (58,524) are the most regularly employed weapons in terrorist attacks, demonstrating a clear preference for techniques that result in mass casualties and severe destruction. The extensive use of explosives implies that terrorists intend to instill widespread fear and disruption, whereas firearms are frequently used in more focused assaults, such as armed attacks and assassinations.\n",
        "\n",
        "Incendiary devices (11,135) and melee weapons (3,655) are employed less frequently but remain a threat, especially in settings where access to more advanced weaponry is limited. The comparatively large number of \"unknown\" methods (15,157) implies doubt or a lack of detailed data in many cases.\n",
        "\n",
        "Chemical, biological, and radioactive weapons, while rare, indicate the possibility of more unorthodox and devastating assaults, with chemical weapons being the most common (321). The employment of forged weapons (33) and sabotage equipment (141) suggests that, in certain circumstances, terrorists prefer deceit or disruption to direct assault.\n",
        "\n",
        "This data demonstrates that, while terrorists often prefer classic, high-impact weapons such as explosives and firearms, they are not confined to these methods and may employ a range of approaches to achieve their goals.\n",
        "\n",
        "\n",
        "\n",
        "According to the data, a large proportion of terrorist occurrences are linked to unknown offenders, with 82,782 acts that lack definite attribution. The Taliban (7,478 assaults) and ISIL (5,613) are the most active of the listed groups, demonstrating their widespread involvement in global terrorism, particularly in the Middle East and South Asia. Shining Path (4,555), Farabundo Martí National Liberation Front (3,351), and Al-Shabaab (3,288) have localised but significant activities, particularly in Latin America and Africa.\n",
        "\n",
        "\n",
        "The New People's Army (2,772), the Irish Republican Army (2,671), the Revolutionary Armed Forces of Colombia (2,487), and Boko Haram (2,418) demonstrate terrorism's global reach, encompassing territories from Europe to Southeast Asia. The large number of unknown occurrences shows that many assaults, particularly smaller or more decentralised ones, go unreported, making it difficult to adequately analyse the scale and involvement of various parties. This illustrates the organised and dispersed nature of terrorism in many places.\n",
        "\n",
        "\n",
        "\n",
        "\n",
        "\n",
        "\n",
        "The Final Analysis shows that terrorism has cost $8.14 Billion to the Humanity."
      ],
      "metadata": {
        "id": "Fjb1IsQkh3yE"
      }
    },
    {
      "cell_type": "markdown",
      "source": [
        "### ***Conclusion***\n",
        "**The analysis reveals a stark geographic concentration of terrorist attacks, particularly in regions such as the Middle East and South Asia, underscoring the need for targeted counterterrorism efforts. Additionally, the data highlights the preference for high-impact tactics and weapons among terrorists, resulting in significant human and economic costs.**"
      ],
      "metadata": {
        "id": "gIfDvo9L0UH2"
      }
    }
  ]
}